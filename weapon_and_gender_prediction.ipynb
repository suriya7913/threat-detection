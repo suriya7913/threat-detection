{
 "cells": [
  {
   "cell_type": "code",
   "execution_count": null,
   "id": "dc9b39ed",
   "metadata": {
    "_cell_guid": "d9698c49-75c6-4be6-8673-7187c1901687",
    "_uuid": "1271e27a-51ad-4745-a788-12b3461f6899",
    "collapsed": false,
    "jupyter": {
     "outputs_hidden": false
    },
    "papermill": {
     "duration": 0.016474,
     "end_time": "2021-10-08T08:02:03.003124",
     "exception": false,
     "start_time": "2021-10-08T08:02:02.986650",
     "status": "completed"
    },
    "tags": []
   },
   "outputs": [],
   "source": []
  },
  {
   "cell_type": "code",
   "execution_count": null,
   "id": "feb79766",
   "metadata": {
    "_cell_guid": "b9ea907b-8ac0-4280-94c8-c28398f86091",
    "_uuid": "af0f6b9e-dd8f-40c3-8faf-eef991ffb491",
    "collapsed": false,
    "jupyter": {
     "outputs_hidden": false
    },
    "papermill": {
     "duration": 0.014619,
     "end_time": "2021-10-08T08:02:03.034563",
     "exception": false,
     "start_time": "2021-10-08T08:02:03.019944",
     "status": "completed"
    },
    "tags": []
   },
   "outputs": [],
   "source": []
  },
  {
   "cell_type": "code",
   "execution_count": 1,
   "id": "ea19a90a",
   "metadata": {
    "_cell_guid": "13b7254b-8250-48b8-b9f7-474e519fcf2c",
    "_uuid": "c831ee81-f818-46dc-bf34-cb2ec5bdf102",
    "collapsed": false,
    "execution": {
     "iopub.execute_input": "2021-10-08T08:02:03.070799Z",
     "iopub.status.busy": "2021-10-08T08:02:03.069182Z",
     "iopub.status.idle": "2021-10-08T08:02:07.486922Z",
     "shell.execute_reply": "2021-10-08T08:02:07.485882Z",
     "shell.execute_reply.started": "2021-10-08T07:00:35.562549Z"
    },
    "jupyter": {
     "outputs_hidden": false
    },
    "papermill": {
     "duration": 4.436915,
     "end_time": "2021-10-08T08:02:07.487084",
     "exception": false,
     "start_time": "2021-10-08T08:02:03.050169",
     "status": "completed"
    },
    "tags": []
   },
   "outputs": [
    {
     "name": "stderr",
     "output_type": "stream",
     "text": [
      "2021-10-08 08:02:03.631317: I tensorflow/stream_executor/platform/default/dso_loader.cc:49] Successfully opened dynamic library libcudart.so.11.0\n"
     ]
    }
   ],
   "source": [
    "import tensorflow as tf"
   ]
  },
  {
   "cell_type": "code",
   "execution_count": 2,
   "id": "6dade0f3",
   "metadata": {
    "_cell_guid": "ff1039f7-1188-4265-9da2-1bee03fb3128",
    "_uuid": "a21d17d7-2ca9-482d-a68a-d11d7211fd8b",
    "collapsed": false,
    "execution": {
     "iopub.execute_input": "2021-10-08T08:02:07.521738Z",
     "iopub.status.busy": "2021-10-08T08:02:07.521228Z",
     "iopub.status.idle": "2021-10-08T08:02:14.635865Z",
     "shell.execute_reply": "2021-10-08T08:02:14.636344Z",
     "shell.execute_reply.started": "2021-10-08T07:00:39.744388Z"
    },
    "jupyter": {
     "outputs_hidden": false
    },
    "papermill": {
     "duration": 7.134777,
     "end_time": "2021-10-08T08:02:14.636509",
     "exception": false,
     "start_time": "2021-10-08T08:02:07.501732",
     "status": "completed"
    },
    "tags": []
   },
   "outputs": [
    {
     "name": "stdout",
     "output_type": "stream",
     "text": [
      "Found 6530 files belonging to 2 classes.\n",
      "Using 5224 files for training.\n"
     ]
    },
    {
     "name": "stderr",
     "output_type": "stream",
     "text": [
      "2021-10-08 08:02:12.291061: I tensorflow/compiler/jit/xla_cpu_device.cc:41] Not creating XLA devices, tf_xla_enable_xla_devices not set\n",
      "2021-10-08 08:02:12.293951: I tensorflow/stream_executor/platform/default/dso_loader.cc:49] Successfully opened dynamic library libcuda.so.1\n",
      "2021-10-08 08:02:12.332178: I tensorflow/stream_executor/cuda/cuda_gpu_executor.cc:941] successful NUMA node read from SysFS had negative value (-1), but there must be at least one NUMA node, so returning NUMA node zero\n",
      "2021-10-08 08:02:12.332800: I tensorflow/core/common_runtime/gpu/gpu_device.cc:1720] Found device 0 with properties: \n",
      "pciBusID: 0000:00:04.0 name: Tesla P100-PCIE-16GB computeCapability: 6.0\n",
      "coreClock: 1.3285GHz coreCount: 56 deviceMemorySize: 15.90GiB deviceMemoryBandwidth: 681.88GiB/s\n",
      "2021-10-08 08:02:12.332848: I tensorflow/stream_executor/platform/default/dso_loader.cc:49] Successfully opened dynamic library libcudart.so.11.0\n",
      "2021-10-08 08:02:12.356451: I tensorflow/stream_executor/platform/default/dso_loader.cc:49] Successfully opened dynamic library libcublas.so.11\n",
      "2021-10-08 08:02:12.356540: I tensorflow/stream_executor/platform/default/dso_loader.cc:49] Successfully opened dynamic library libcublasLt.so.11\n",
      "2021-10-08 08:02:12.371999: I tensorflow/stream_executor/platform/default/dso_loader.cc:49] Successfully opened dynamic library libcufft.so.10\n",
      "2021-10-08 08:02:12.381304: I tensorflow/stream_executor/platform/default/dso_loader.cc:49] Successfully opened dynamic library libcurand.so.10\n",
      "2021-10-08 08:02:12.408497: I tensorflow/stream_executor/platform/default/dso_loader.cc:49] Successfully opened dynamic library libcusolver.so.10\n",
      "2021-10-08 08:02:12.416524: I tensorflow/stream_executor/platform/default/dso_loader.cc:49] Successfully opened dynamic library libcusparse.so.11\n",
      "2021-10-08 08:02:12.419029: I tensorflow/stream_executor/platform/default/dso_loader.cc:49] Successfully opened dynamic library libcudnn.so.8\n",
      "2021-10-08 08:02:12.419233: I tensorflow/stream_executor/cuda/cuda_gpu_executor.cc:941] successful NUMA node read from SysFS had negative value (-1), but there must be at least one NUMA node, so returning NUMA node zero\n",
      "2021-10-08 08:02:12.419913: I tensorflow/stream_executor/cuda/cuda_gpu_executor.cc:941] successful NUMA node read from SysFS had negative value (-1), but there must be at least one NUMA node, so returning NUMA node zero\n",
      "2021-10-08 08:02:12.421514: I tensorflow/core/common_runtime/gpu/gpu_device.cc:1862] Adding visible gpu devices: 0\n",
      "2021-10-08 08:02:12.424062: I tensorflow/core/platform/cpu_feature_guard.cc:142] This TensorFlow binary is optimized with oneAPI Deep Neural Network Library (oneDNN) to use the following CPU instructions in performance-critical operations:  AVX2 AVX512F FMA\n",
      "To enable them in other operations, rebuild TensorFlow with the appropriate compiler flags.\n",
      "2021-10-08 08:02:12.425205: I tensorflow/compiler/jit/xla_gpu_device.cc:99] Not creating XLA devices, tf_xla_enable_xla_devices not set\n",
      "2021-10-08 08:02:12.425358: I tensorflow/stream_executor/cuda/cuda_gpu_executor.cc:941] successful NUMA node read from SysFS had negative value (-1), but there must be at least one NUMA node, so returning NUMA node zero\n",
      "2021-10-08 08:02:12.425926: I tensorflow/core/common_runtime/gpu/gpu_device.cc:1720] Found device 0 with properties: \n",
      "pciBusID: 0000:00:04.0 name: Tesla P100-PCIE-16GB computeCapability: 6.0\n",
      "coreClock: 1.3285GHz coreCount: 56 deviceMemorySize: 15.90GiB deviceMemoryBandwidth: 681.88GiB/s\n",
      "2021-10-08 08:02:12.425966: I tensorflow/stream_executor/platform/default/dso_loader.cc:49] Successfully opened dynamic library libcudart.so.11.0\n",
      "2021-10-08 08:02:12.425997: I tensorflow/stream_executor/platform/default/dso_loader.cc:49] Successfully opened dynamic library libcublas.so.11\n",
      "2021-10-08 08:02:12.426021: I tensorflow/stream_executor/platform/default/dso_loader.cc:49] Successfully opened dynamic library libcublasLt.so.11\n",
      "2021-10-08 08:02:12.426038: I tensorflow/stream_executor/platform/default/dso_loader.cc:49] Successfully opened dynamic library libcufft.so.10\n",
      "2021-10-08 08:02:12.426053: I tensorflow/stream_executor/platform/default/dso_loader.cc:49] Successfully opened dynamic library libcurand.so.10\n",
      "2021-10-08 08:02:12.426068: I tensorflow/stream_executor/platform/default/dso_loader.cc:49] Successfully opened dynamic library libcusolver.so.10\n",
      "2021-10-08 08:02:12.426084: I tensorflow/stream_executor/platform/default/dso_loader.cc:49] Successfully opened dynamic library libcusparse.so.11\n",
      "2021-10-08 08:02:12.426114: I tensorflow/stream_executor/platform/default/dso_loader.cc:49] Successfully opened dynamic library libcudnn.so.8\n",
      "2021-10-08 08:02:12.426195: I tensorflow/stream_executor/cuda/cuda_gpu_executor.cc:941] successful NUMA node read from SysFS had negative value (-1), but there must be at least one NUMA node, so returning NUMA node zero\n",
      "2021-10-08 08:02:12.426784: I tensorflow/stream_executor/cuda/cuda_gpu_executor.cc:941] successful NUMA node read from SysFS had negative value (-1), but there must be at least one NUMA node, so returning NUMA node zero\n",
      "2021-10-08 08:02:12.427355: I tensorflow/core/common_runtime/gpu/gpu_device.cc:1862] Adding visible gpu devices: 0\n",
      "2021-10-08 08:02:12.428366: I tensorflow/stream_executor/platform/default/dso_loader.cc:49] Successfully opened dynamic library libcudart.so.11.0\n",
      "2021-10-08 08:02:13.896996: I tensorflow/core/common_runtime/gpu/gpu_device.cc:1261] Device interconnect StreamExecutor with strength 1 edge matrix:\n",
      "2021-10-08 08:02:13.897046: I tensorflow/core/common_runtime/gpu/gpu_device.cc:1267]      0 \n",
      "2021-10-08 08:02:13.897057: I tensorflow/core/common_runtime/gpu/gpu_device.cc:1280] 0:   N \n",
      "2021-10-08 08:02:13.899207: I tensorflow/stream_executor/cuda/cuda_gpu_executor.cc:941] successful NUMA node read from SysFS had negative value (-1), but there must be at least one NUMA node, so returning NUMA node zero\n",
      "2021-10-08 08:02:13.899892: I tensorflow/stream_executor/cuda/cuda_gpu_executor.cc:941] successful NUMA node read from SysFS had negative value (-1), but there must be at least one NUMA node, so returning NUMA node zero\n",
      "2021-10-08 08:02:13.900545: I tensorflow/stream_executor/cuda/cuda_gpu_executor.cc:941] successful NUMA node read from SysFS had negative value (-1), but there must be at least one NUMA node, so returning NUMA node zero\n",
      "2021-10-08 08:02:13.901137: I tensorflow/core/common_runtime/gpu/gpu_device.cc:1406] Created TensorFlow device (/job:localhost/replica:0/task:0/device:GPU:0 with 14957 MB memory) -> physical GPU (device: 0, name: Tesla P100-PCIE-16GB, pci bus id: 0000:00:04.0, compute capability: 6.0)\n"
     ]
    },
    {
     "name": "stdout",
     "output_type": "stream",
     "text": [
      "Found 6530 files belonging to 2 classes.\n",
      "Using 1306 files for validation.\n"
     ]
    }
   ],
   "source": [
    "data_train=tf.keras.preprocessing.image_dataset_from_directory(\n",
    "    \"../input/data222/KnivesImagesDatabase\",\n",
    "    labels=\"inferred\",\n",
    "    label_mode=\"categorical\",\n",
    "    class_names=None,\n",
    "    color_mode=\"rgb\",\n",
    "    batch_size=32,\n",
    "    image_size=(256, 256),\n",
    "    shuffle=True,\n",
    "    seed=50,\n",
    "    validation_split=0.2,\n",
    "    subset='training',\n",
    "    \n",
    ")\n",
    "data_test=tf.keras.preprocessing.image_dataset_from_directory(\n",
    "    \"../input/data222/KnivesImagesDatabase\",\n",
    "    labels=\"inferred\",\n",
    "    label_mode=\"categorical\",\n",
    "    class_names=None,\n",
    "    color_mode=\"rgb\",\n",
    "    batch_size=32,\n",
    "    image_size=(256, 256),\n",
    "    shuffle=True,\n",
    "    seed=50,\n",
    "    validation_split=0.2,\n",
    "    subset='validation',\n",
    "    \n",
    ")"
   ]
  },
  {
   "cell_type": "code",
   "execution_count": 3,
   "id": "7d5e6350",
   "metadata": {
    "_cell_guid": "fd01c46a-3d34-4c56-8268-09932c65b52c",
    "_uuid": "08574167-86e4-4918-820e-735472c6b837",
    "collapsed": false,
    "execution": {
     "iopub.execute_input": "2021-10-08T08:02:14.674936Z",
     "iopub.status.busy": "2021-10-08T08:02:14.674385Z",
     "iopub.status.idle": "2021-10-08T08:02:14.766599Z",
     "shell.execute_reply": "2021-10-08T08:02:14.765932Z",
     "shell.execute_reply.started": "2021-10-08T07:00:46.742675Z"
    },
    "jupyter": {
     "outputs_hidden": false
    },
    "papermill": {
     "duration": 0.115109,
     "end_time": "2021-10-08T08:02:14.766731",
     "exception": false,
     "start_time": "2021-10-08T08:02:14.651622",
     "status": "completed"
    },
    "tags": []
   },
   "outputs": [],
   "source": [
    "\n",
    "cnn = tf.keras.models.Sequential()\n",
    "cnn.add(tf.keras.layers.Conv2D(filters=128, kernel_size=3, activation='relu', input_shape=[256, 256, 3]))\n",
    "cnn.add(tf.keras.layers.MaxPool2D(pool_size=2, strides=2))\n",
    "cnn.add(tf.keras.layers.Conv2D(filters=64, kernel_size=3, activation='relu'))\n",
    "cnn.add(tf.keras.layers.MaxPool2D(pool_size=2, strides=2))\n",
    "cnn.add(tf.keras.layers.Conv2D(filters=32, kernel_size=3, activation='relu'))\n",
    "cnn.add(tf.keras.layers.MaxPool2D(pool_size=2, strides=2))\n",
    "\n",
    "cnn.add(tf.keras.layers.Flatten())\n",
    "cnn.add(tf.keras.layers.Dense(units=128, activation='relu'))\n",
    "cnn.add(tf.keras.layers.Dense(units=2, activation='sigmoid'))\n",
    "cnn.compile(optimizer = 'adam', loss = 'categorical_crossentropy', metrics = ['accuracy'])"
   ]
  },
  {
   "cell_type": "code",
   "execution_count": 4,
   "id": "7ccc7c23",
   "metadata": {
    "_cell_guid": "8de294fe-0787-47c0-b9e1-e458fabdf884",
    "_uuid": "0975013e-69ce-4aab-8872-b6ab9a744f55",
    "collapsed": false,
    "execution": {
     "iopub.execute_input": "2021-10-08T08:02:14.800206Z",
     "iopub.status.busy": "2021-10-08T08:02:14.799568Z",
     "iopub.status.idle": "2021-10-08T08:03:53.506909Z",
     "shell.execute_reply": "2021-10-08T08:03:53.507331Z",
     "shell.execute_reply.started": "2021-10-08T07:00:46.841627Z"
    },
    "jupyter": {
     "outputs_hidden": false
    },
    "papermill": {
     "duration": 98.72624,
     "end_time": "2021-10-08T08:03:53.507499",
     "exception": false,
     "start_time": "2021-10-08T08:02:14.781259",
     "status": "completed"
    },
    "tags": []
   },
   "outputs": [
    {
     "name": "stdout",
     "output_type": "stream",
     "text": [
      "Epoch 1/3\n"
     ]
    },
    {
     "name": "stderr",
     "output_type": "stream",
     "text": [
      "2021-10-08 08:02:15.228871: I tensorflow/compiler/mlir/mlir_graph_optimization_pass.cc:116] None of the MLIR optimization passes are enabled (registered 2)\n",
      "2021-10-08 08:02:15.236353: I tensorflow/core/platform/profile_utils/cpu_utils.cc:112] CPU Frequency: 2000189999 Hz\n",
      "2021-10-08 08:02:15.348333: I tensorflow/stream_executor/platform/default/dso_loader.cc:49] Successfully opened dynamic library libcublas.so.11\n",
      "2021-10-08 08:02:16.081298: I tensorflow/stream_executor/platform/default/dso_loader.cc:49] Successfully opened dynamic library libcublasLt.so.11\n",
      "2021-10-08 08:02:17.031498: I tensorflow/stream_executor/platform/default/dso_loader.cc:49] Successfully opened dynamic library libcudnn.so.8\n"
     ]
    },
    {
     "name": "stdout",
     "output_type": "stream",
     "text": [
      "164/164 [==============================] - 54s 283ms/step - loss: 43.6260 - accuracy: 0.6163 - val_loss: 0.5261 - val_accuracy: 0.7420\n",
      "Epoch 2/3\n",
      "164/164 [==============================] - 22s 132ms/step - loss: 0.4262 - accuracy: 0.8341 - val_loss: 0.3387 - val_accuracy: 0.9081\n",
      "Epoch 3/3\n",
      "164/164 [==============================] - 22s 134ms/step - loss: 0.2755 - accuracy: 0.9174 - val_loss: 0.4260 - val_accuracy: 0.8783\n"
     ]
    },
    {
     "data": {
      "text/plain": [
       "<tensorflow.python.keras.callbacks.History at 0x7ff4795e6990>"
      ]
     },
     "execution_count": 4,
     "metadata": {},
     "output_type": "execute_result"
    }
   ],
   "source": [
    "cnn.fit(x = data_train,validation_data =data_test , epochs = 3)"
   ]
  },
  {
   "cell_type": "code",
   "execution_count": 5,
   "id": "6c49e404",
   "metadata": {
    "_cell_guid": "de7d8368-2c6c-407c-8055-bfa49bc02bcb",
    "_uuid": "859dc3c6-4c2a-43c7-a6f6-6c1e7665e6d3",
    "collapsed": false,
    "execution": {
     "iopub.execute_input": "2021-10-08T08:03:53.804173Z",
     "iopub.status.busy": "2021-10-08T08:03:53.802446Z",
     "iopub.status.idle": "2021-10-08T08:03:53.804771Z",
     "shell.execute_reply": "2021-10-08T08:03:53.805218Z",
     "shell.execute_reply.started": "2021-10-08T07:02:27.155643Z"
    },
    "jupyter": {
     "outputs_hidden": false
    },
    "papermill": {
     "duration": 0.152349,
     "end_time": "2021-10-08T08:03:53.805348",
     "exception": false,
     "start_time": "2021-10-08T08:03:53.652999",
     "status": "completed"
    },
    "tags": []
   },
   "outputs": [],
   "source": [
    "model=cnn"
   ]
  },
  {
   "cell_type": "code",
   "execution_count": 6,
   "id": "60dc9b56",
   "metadata": {
    "_cell_guid": "2eb3cc46-582d-4b51-bff3-f1166fc29cf2",
    "_uuid": "4f28b861-675b-4ace-806c-a8a9a9b554e3",
    "collapsed": false,
    "execution": {
     "iopub.execute_input": "2021-10-08T08:03:54.107384Z",
     "iopub.status.busy": "2021-10-08T08:03:54.105028Z",
     "iopub.status.idle": "2021-10-08T08:03:55.426383Z",
     "shell.execute_reply": "2021-10-08T08:03:55.425623Z",
     "shell.execute_reply.started": "2021-10-08T07:02:27.163900Z"
    },
    "jupyter": {
     "outputs_hidden": false
    },
    "papermill": {
     "duration": 1.477041,
     "end_time": "2021-10-08T08:03:55.426590",
     "exception": false,
     "start_time": "2021-10-08T08:03:53.949549",
     "status": "completed"
    },
    "tags": []
   },
   "outputs": [
    {
     "name": "stderr",
     "output_type": "stream",
     "text": [
      "2021-10-08 08:03:54.347302: W tensorflow/python/util/util.cc:348] Sets are not currently considered sequences, but this may change in the future, so consider avoiding using them.\n"
     ]
    }
   ],
   "source": [
    "model.save('./cnn4.H5')"
   ]
  },
  {
   "cell_type": "code",
   "execution_count": 7,
   "id": "c7a76a46",
   "metadata": {
    "_cell_guid": "d1ac2d19-e250-469d-a8ef-15aa2402fc5c",
    "_uuid": "90d7a618-4d63-4ac1-bcee-7ef2ba74e97d",
    "collapsed": false,
    "execution": {
     "iopub.execute_input": "2021-10-08T08:03:55.731994Z",
     "iopub.status.busy": "2021-10-08T08:03:55.731274Z",
     "iopub.status.idle": "2021-10-08T08:03:55.929372Z",
     "shell.execute_reply": "2021-10-08T08:03:55.929848Z",
     "shell.execute_reply.started": "2021-10-08T07:02:28.610323Z"
    },
    "jupyter": {
     "outputs_hidden": false
    },
    "papermill": {
     "duration": 0.349428,
     "end_time": "2021-10-08T08:03:55.930005",
     "exception": false,
     "start_time": "2021-10-08T08:03:55.580577",
     "status": "completed"
    },
    "tags": []
   },
   "outputs": [],
   "source": [
    "img = tf.keras.preprocessing.image.load_img(\n",
    "    '../input/data222/KnivesImagesDatabase/guns/armas (1025).jpg.rf.13079c07a22f9fe272c1b52229df4610.jpg', target_size=(256,256)\n",
    ")\n",
    "img_array = tf.keras.preprocessing.image.img_to_array(img)\n",
    "img_array = tf.expand_dims(img_array, 0)  # Create batch axis\n",
    "\n",
    "predictions = model.predict(img_array)"
   ]
  },
  {
   "cell_type": "code",
   "execution_count": 8,
   "id": "9f96eb17",
   "metadata": {
    "_cell_guid": "ce4c0ed4-5153-4812-9ffc-9be303fba02f",
    "_uuid": "9d2c5e8e-69bf-4101-9a9e-277ee0b19a67",
    "collapsed": false,
    "execution": {
     "iopub.execute_input": "2021-10-08T08:03:56.230404Z",
     "iopub.status.busy": "2021-10-08T08:03:56.229777Z",
     "iopub.status.idle": "2021-10-08T08:03:56.233813Z",
     "shell.execute_reply": "2021-10-08T08:03:56.233286Z",
     "shell.execute_reply.started": "2021-10-08T07:02:28.814457Z"
    },
    "jupyter": {
     "outputs_hidden": false
    },
    "papermill": {
     "duration": 0.156259,
     "end_time": "2021-10-08T08:03:56.233949",
     "exception": false,
     "start_time": "2021-10-08T08:03:56.077690",
     "status": "completed"
    },
    "tags": []
   },
   "outputs": [
    {
     "name": "stdout",
     "output_type": "stream",
     "text": [
      "[[0.15504585 0.00953622]]\n"
     ]
    }
   ],
   "source": [
    "print(predictions)\n"
   ]
  },
  {
   "cell_type": "code",
   "execution_count": 9,
   "id": "66cada3d",
   "metadata": {
    "_cell_guid": "543570a6-813c-4cc8-b5e4-89260d413eee",
    "_uuid": "226b7d0a-a13f-4d65-b0eb-ccbeda2701fd",
    "collapsed": false,
    "execution": {
     "iopub.execute_input": "2021-10-08T08:03:56.538308Z",
     "iopub.status.busy": "2021-10-08T08:03:56.537748Z",
     "iopub.status.idle": "2021-10-08T08:03:56.540683Z",
     "shell.execute_reply": "2021-10-08T08:03:56.541054Z",
     "shell.execute_reply.started": "2021-10-08T06:14:49.579317Z"
    },
    "jupyter": {
     "outputs_hidden": false
    },
    "papermill": {
     "duration": 0.153285,
     "end_time": "2021-10-08T08:03:56.541209",
     "exception": false,
     "start_time": "2021-10-08T08:03:56.387924",
     "status": "completed"
    },
    "tags": []
   },
   "outputs": [],
   "source": [
    "import numpy as np"
   ]
  },
  {
   "cell_type": "code",
   "execution_count": 10,
   "id": "d6fda5d3",
   "metadata": {
    "_cell_guid": "dfb8b467-824b-4b8d-b6bd-a4576614c991",
    "_uuid": "ec2a3fbf-b92b-4fc3-b784-c6f73449bb5a",
    "collapsed": false,
    "execution": {
     "iopub.execute_input": "2021-10-08T08:03:57.032372Z",
     "iopub.status.busy": "2021-10-08T08:03:57.031584Z",
     "iopub.status.idle": "2021-10-08T08:03:57.034919Z",
     "shell.execute_reply": "2021-10-08T08:03:57.035602Z",
     "shell.execute_reply.started": "2021-10-08T06:18:54.286893Z"
    },
    "jupyter": {
     "outputs_hidden": false
    },
    "papermill": {
     "duration": 0.26689,
     "end_time": "2021-10-08T08:03:57.035788",
     "exception": false,
     "start_time": "2021-10-08T08:03:56.768898",
     "status": "completed"
    },
    "tags": []
   },
   "outputs": [
    {
     "name": "stdout",
     "output_type": "stream",
     "text": [
      "0\n"
     ]
    }
   ],
   "source": [
    "print(np.argmax(predictions))"
   ]
  },
  {
   "cell_type": "code",
   "execution_count": 11,
   "id": "e5310dd2",
   "metadata": {
    "_cell_guid": "964fa6d1-2378-4fb9-b5e7-7216f21883f3",
    "_uuid": "a94382e7-c5ee-4fc9-a2b2-95d9c83cf93a",
    "collapsed": false,
    "execution": {
     "iopub.execute_input": "2021-10-08T08:03:57.393292Z",
     "iopub.status.busy": "2021-10-08T08:03:57.392362Z",
     "iopub.status.idle": "2021-10-08T08:03:57.394490Z",
     "shell.execute_reply": "2021-10-08T08:03:57.394896Z",
     "shell.execute_reply.started": "2021-10-08T06:18:57.163076Z"
    },
    "jupyter": {
     "outputs_hidden": false
    },
    "papermill": {
     "duration": 0.158545,
     "end_time": "2021-10-08T08:03:57.395027",
     "exception": false,
     "start_time": "2021-10-08T08:03:57.236482",
     "status": "completed"
    },
    "tags": []
   },
   "outputs": [],
   "source": [
    "pred=0\n",
    "for j in predictions[0]:\n",
    "    if pred<j:\n",
    "        pred=j\n",
    "index=0\n",
    "k=0\n",
    "\n",
    "for j in predictions[0]:\n",
    "    if j==pred:\n",
    "        index=k\n",
    "    k=k+1\n",
    "out=index    "
   ]
  },
  {
   "cell_type": "code",
   "execution_count": 12,
   "id": "33ad73c0",
   "metadata": {
    "execution": {
     "iopub.execute_input": "2021-10-08T08:03:57.689492Z",
     "iopub.status.busy": "2021-10-08T08:03:57.688643Z",
     "iopub.status.idle": "2021-10-08T08:03:57.690705Z",
     "shell.execute_reply": "2021-10-08T08:03:57.691069Z",
     "shell.execute_reply.started": "2021-10-08T07:00:30.348191Z"
    },
    "papermill": {
     "duration": 0.151999,
     "end_time": "2021-10-08T08:03:57.691219",
     "exception": false,
     "start_time": "2021-10-08T08:03:57.539220",
     "status": "completed"
    },
    "tags": []
   },
   "outputs": [],
   "source": [
    " if predictions[0][index]<0.6:\n",
    "    out=-1"
   ]
  },
  {
   "cell_type": "code",
   "execution_count": null,
   "id": "5a06760b",
   "metadata": {
    "_cell_guid": "9fab7dfe-8be7-4c24-822e-eea9fbbd3318",
    "_uuid": "ae8d0fab-e558-4f05-9d4a-94180652847d",
    "collapsed": false,
    "jupyter": {
     "outputs_hidden": false
    },
    "papermill": {
     "duration": 0.144336,
     "end_time": "2021-10-08T08:03:57.981337",
     "exception": false,
     "start_time": "2021-10-08T08:03:57.837001",
     "status": "completed"
    },
    "tags": []
   },
   "outputs": [],
   "source": []
  },
  {
   "cell_type": "code",
   "execution_count": 13,
   "id": "f0dd5189",
   "metadata": {
    "_cell_guid": "85d9c3fe-9cf6-4b59-8273-5f221044cc4b",
    "_uuid": "1fcec9b3-4fd9-4da7-8645-77a33930182f",
    "collapsed": false,
    "execution": {
     "iopub.execute_input": "2021-10-08T08:03:58.286409Z",
     "iopub.status.busy": "2021-10-08T08:03:58.285817Z",
     "iopub.status.idle": "2021-10-08T08:03:58.291638Z",
     "shell.execute_reply": "2021-10-08T08:03:58.290988Z",
     "shell.execute_reply.started": "2021-10-08T06:19:07.322456Z"
    },
    "jupyter": {
     "outputs_hidden": false
    },
    "papermill": {
     "duration": 0.158396,
     "end_time": "2021-10-08T08:03:58.291799",
     "exception": false,
     "start_time": "2021-10-08T08:03:58.133403",
     "status": "completed"
    },
    "tags": []
   },
   "outputs": [
    {
     "name": "stdout",
     "output_type": "stream",
     "text": [
      "No threats found in image\n"
     ]
    }
   ],
   "source": [
    "if out==0:\n",
    "    print(\"image contains gun\")\n",
    "elif out==1:\n",
    "    print(\"image contains knife\")\n",
    "elif out==-1:\n",
    "    print(\"No threats found in image\")"
   ]
  },
  {
   "cell_type": "code",
   "execution_count": null,
   "id": "3f05ca50",
   "metadata": {
    "_cell_guid": "fc928967-2cff-4591-8656-fada525022a4",
    "_uuid": "865d17ae-890f-4a35-887a-d43f2a41f221",
    "collapsed": false,
    "jupyter": {
     "outputs_hidden": false
    },
    "papermill": {
     "duration": 0.148528,
     "end_time": "2021-10-08T08:03:58.586767",
     "exception": false,
     "start_time": "2021-10-08T08:03:58.438239",
     "status": "completed"
    },
    "tags": []
   },
   "outputs": [],
   "source": []
  }
 ],
 "metadata": {
  "kernelspec": {
   "display_name": "Python 3",
   "language": "python",
   "name": "python3"
  },
  "language_info": {
   "codemirror_mode": {
    "name": "ipython",
    "version": 3
   },
   "file_extension": ".py",
   "mimetype": "text/x-python",
   "name": "python",
   "nbconvert_exporter": "python",
   "pygments_lexer": "ipython3",
   "version": "3.7.10"
  },
  "papermill": {
   "default_parameters": {},
   "duration": 125.605208,
   "end_time": "2021-10-08T08:04:02.290861",
   "environment_variables": {},
   "exception": null,
   "input_path": "__notebook__.ipynb",
   "output_path": "__notebook__.ipynb",
   "parameters": {},
   "start_time": "2021-10-08T08:01:56.685653",
   "version": "2.3.3"
  }
 },
 "nbformat": 4,
 "nbformat_minor": 5
}
